{
 "cells": [
  {
   "cell_type": "markdown",
   "metadata": {},
   "source": [
    "# Fase de **Inferencia** | Verne Academy **Kaggle Competition**\n",
    "### Por **Mario Jurado Galán**\n",
    "Este notebook incluye:  \n",
    "+ Carga de datos\n",
    "+ Carga de objetos\n",
    "+ Transformaciones\n",
    "+ Predicción de resultados\n",
    "+ Escritura en CSV"
   ]
  },
  {
   "cell_type": "markdown",
   "metadata": {},
   "source": [
    "# 0. Librerias"
   ]
  },
  {
   "cell_type": "code",
   "execution_count": null,
   "metadata": {},
   "outputs": [],
   "source": [
    "# ----Tratamiento de datos---\n",
    "import functions as func\n",
    "import pandas as pd\n",
    "\n",
    "# ----Puesta en producción----\n",
    "import pickle\n",
    "\n",
    "# ----Warnings----\n",
    "import warnings\n",
    "warnings.filterwarnings('once')  "
   ]
  },
  {
   "cell_type": "markdown",
   "metadata": {},
   "source": [
    "# 1. Carga de datos\n"
   ]
  },
  {
   "cell_type": "code",
   "execution_count": null,
   "metadata": {},
   "outputs": [
    {
     "name": "stderr",
     "output_type": "stream",
     "text": [
      "C:\\Users\\SumeriO\\AppData\\Local\\Temp\\ipykernel_32124\\3889870005.py:1: DtypeWarning: Columns (28) have mixed types. Specify dtype option on import or set low_memory=False.\n",
      "  inference_df=pd.read_csv(\"../Datasets/MasterBI_Test.csv\")\n"
     ]
    }
   ],
   "source": [
    "inference_df=pd.read_csv(\"../Datasets/MasterBI_Test.csv\")"
   ]
  },
  {
   "cell_type": "markdown",
   "metadata": {},
   "source": [
    "# 2. Carga de objetos"
   ]
  },
  {
   "cell_type": "code",
   "execution_count": null,
   "metadata": {},
   "outputs": [],
   "source": [
    "\n",
    "# Modelo\n",
    "with open('output/model.pkl', 'rb') as c:\n",
    "    model=pickle.load(c)\n",
    "    \n",
    "# Objetos de transformación\n",
    "\n",
    "with open('output/numeric_imputer.pkl', 'rb') as c:\n",
    "    numeric_imp=pickle.load(c)\n",
    "    \n",
    "with open('output/category_imputer.pkl', 'rb') as c:\n",
    "    category_imp=pickle.load(c)\n",
    "    \n",
    "with open('output/onehot_encoder.pkl', 'rb') as c:\n",
    "    onehot_enc=pickle.load(c)\n",
    "\n",
    "with open('output/target_encoder.pkl', 'rb') as c:\n",
    "    target_enc=pickle.load(c)\n",
    "\n",
    "# Columnas\n",
    "with open('output/columns.pkl', 'rb') as c:\n",
    "    columns=pickle.load(c)\n",
    "\n",
    "with open('output/delete_features.pkl','rb') as c:\n",
    "    delete_features=pickle.load(c)\n",
    "\n",
    "with open('output/synth_num_cols.pkl', 'rb') as c:\n",
    "    synth_num_cols=pickle.load(c)\n",
    "\n",
    "with open('output/synth_cat_cols.pkl', 'rb') as c:\n",
    "    synth_cat_cols=pickle.load(c) \n",
    "\n",
    "with open('output/cat_cols.pkl', 'rb') as c:\n",
    "    category_cols=pickle.load(c)\n",
    "\n",
    "with open('output/num_cols.pkl', 'rb') as c:\n",
    "    numeric_cols=pickle.load(c)\n",
    "\n",
    "with open('output/onehot_cols.pkl', 'rb') as c:\n",
    "    onehot_cols=pickle.load(c)\n",
    "\n",
    "with open('output/target_cols.pkl', 'rb') as c:\n",
    "    target_cols=pickle.load(c)"
   ]
  },
  {
   "cell_type": "markdown",
   "metadata": {},
   "source": [
    "# 3. Transformaciones\n",
    "+ Eliminación manual de columnas\n",
    "+ Transformación manual de valores\n",
    "+ Creacion de variables de máscara y contextuales\n",
    "+ Imputación de nulos\n",
    "+ Aplicación de encoders\n",
    "+ Filtrado para quedarse con columnas resultantes de RFECV de la puesta en producción"
   ]
  },
  {
   "cell_type": "code",
   "execution_count": null,
   "metadata": {},
   "outputs": [],
   "source": [
    "# Identificación de id y label\n",
    "id=\"MachineIdentifier\"\n",
    "label=\"HasDetections\""
   ]
  },
  {
   "cell_type": "code",
   "execution_count": null,
   "metadata": {},
   "outputs": [],
   "source": [
    "# Se eliminan las columnas borradas en la puesta en producción\n",
    "inference_df=inference_df[[col for col in inference_df.columns if col not in delete_features]]"
   ]
  },
  {
   "cell_type": "code",
   "execution_count": null,
   "metadata": {},
   "outputs": [],
   "source": [
    "# Se rellenan los nulos con valor 1 \n",
    "inference_df[\"Census_IsWIMBootEnabled\"]=inference_df[\"Census_IsWIMBootEnabled\"].fillna(1.0)"
   ]
  },
  {
   "cell_type": "code",
   "execution_count": null,
   "metadata": {},
   "outputs": [],
   "source": [
    "# Creación de variables de máscara\n",
    "inference_df=func.add_mask_features(inference_df)"
   ]
  },
  {
   "cell_type": "code",
   "execution_count": null,
   "metadata": {},
   "outputs": [
    {
     "name": "stderr",
     "output_type": "stream",
     "text": [
      "c:\\Users\\SumeriO\\Desktop\\Master BI IA\\TFM IA\\Fase 2\\functions.py:31: FutureWarning: The provided callable <function mean at 0x00000241BC710860> is currently using SeriesGroupBy.mean. In a future version of pandas, the provided callable will be used directly. To keep current behavior pass the string \"mean\" instead.\n",
      "  df_grouped = group_by_feat[num_feat].agg([np.mean, np.max, np.min]).reset_index()\n",
      "c:\\Users\\SumeriO\\Desktop\\Master BI IA\\TFM IA\\Fase 2\\functions.py:31: FutureWarning: The provided callable <function max at 0x00000241BC6FFE20> is currently using SeriesGroupBy.max. In a future version of pandas, the provided callable will be used directly. To keep current behavior pass the string \"max\" instead.\n",
      "  df_grouped = group_by_feat[num_feat].agg([np.mean, np.max, np.min]).reset_index()\n",
      "c:\\Users\\SumeriO\\Desktop\\Master BI IA\\TFM IA\\Fase 2\\functions.py:31: FutureWarning: The provided callable <function min at 0x00000241BC6FFF60> is currently using SeriesGroupBy.min. In a future version of pandas, the provided callable will be used directly. To keep current behavior pass the string \"min\" instead.\n",
      "  df_grouped = group_by_feat[num_feat].agg([np.mean, np.max, np.min]).reset_index()\n",
      "c:\\Users\\SumeriO\\Desktop\\Master BI IA\\TFM IA\\Fase 2\\functions.py:31: FutureWarning: The provided callable <function mean at 0x00000241BC710860> is currently using SeriesGroupBy.mean. In a future version of pandas, the provided callable will be used directly. To keep current behavior pass the string \"mean\" instead.\n",
      "  df_grouped = group_by_feat[num_feat].agg([np.mean, np.max, np.min]).reset_index()\n",
      "c:\\Users\\SumeriO\\Desktop\\Master BI IA\\TFM IA\\Fase 2\\functions.py:31: FutureWarning: The provided callable <function max at 0x00000241BC6FFE20> is currently using SeriesGroupBy.max. In a future version of pandas, the provided callable will be used directly. To keep current behavior pass the string \"max\" instead.\n",
      "  df_grouped = group_by_feat[num_feat].agg([np.mean, np.max, np.min]).reset_index()\n",
      "c:\\Users\\SumeriO\\Desktop\\Master BI IA\\TFM IA\\Fase 2\\functions.py:31: FutureWarning: The provided callable <function min at 0x00000241BC6FFF60> is currently using SeriesGroupBy.min. In a future version of pandas, the provided callable will be used directly. To keep current behavior pass the string \"min\" instead.\n",
      "  df_grouped = group_by_feat[num_feat].agg([np.mean, np.max, np.min]).reset_index()\n",
      "c:\\Users\\SumeriO\\Desktop\\Master BI IA\\TFM IA\\Fase 2\\functions.py:31: FutureWarning: The provided callable <function mean at 0x00000241BC710860> is currently using SeriesGroupBy.mean. In a future version of pandas, the provided callable will be used directly. To keep current behavior pass the string \"mean\" instead.\n",
      "  df_grouped = group_by_feat[num_feat].agg([np.mean, np.max, np.min]).reset_index()\n",
      "c:\\Users\\SumeriO\\Desktop\\Master BI IA\\TFM IA\\Fase 2\\functions.py:31: FutureWarning: The provided callable <function max at 0x00000241BC6FFE20> is currently using SeriesGroupBy.max. In a future version of pandas, the provided callable will be used directly. To keep current behavior pass the string \"max\" instead.\n",
      "  df_grouped = group_by_feat[num_feat].agg([np.mean, np.max, np.min]).reset_index()\n",
      "c:\\Users\\SumeriO\\Desktop\\Master BI IA\\TFM IA\\Fase 2\\functions.py:31: FutureWarning: The provided callable <function min at 0x00000241BC6FFF60> is currently using SeriesGroupBy.min. In a future version of pandas, the provided callable will be used directly. To keep current behavior pass the string \"min\" instead.\n",
      "  df_grouped = group_by_feat[num_feat].agg([np.mean, np.max, np.min]).reset_index()\n",
      "c:\\Users\\SumeriO\\Desktop\\Master BI IA\\TFM IA\\Fase 2\\functions.py:31: FutureWarning: The provided callable <function mean at 0x00000241BC710860> is currently using SeriesGroupBy.mean. In a future version of pandas, the provided callable will be used directly. To keep current behavior pass the string \"mean\" instead.\n",
      "  df_grouped = group_by_feat[num_feat].agg([np.mean, np.max, np.min]).reset_index()\n",
      "c:\\Users\\SumeriO\\Desktop\\Master BI IA\\TFM IA\\Fase 2\\functions.py:31: FutureWarning: The provided callable <function max at 0x00000241BC6FFE20> is currently using SeriesGroupBy.max. In a future version of pandas, the provided callable will be used directly. To keep current behavior pass the string \"max\" instead.\n",
      "  df_grouped = group_by_feat[num_feat].agg([np.mean, np.max, np.min]).reset_index()\n",
      "c:\\Users\\SumeriO\\Desktop\\Master BI IA\\TFM IA\\Fase 2\\functions.py:31: FutureWarning: The provided callable <function min at 0x00000241BC6FFF60> is currently using SeriesGroupBy.min. In a future version of pandas, the provided callable will be used directly. To keep current behavior pass the string \"min\" instead.\n",
      "  df_grouped = group_by_feat[num_feat].agg([np.mean, np.max, np.min]).reset_index()\n"
     ]
    }
   ],
   "source": [
    "# Creación de variables contextuales con las columnas provenientes de la puesta en producción\n",
    "inference_df, added_cols=func.generate_grouped_stats(inference_df, synth_num_cols, synth_cat_cols)\n",
    "inference_df=func.generate_synthetic_features(inference_df, added_cols)"
   ]
  },
  {
   "cell_type": "code",
   "execution_count": null,
   "metadata": {},
   "outputs": [],
   "source": [
    "# Se coloca el id como index del DataFrame\n",
    "inference_df=inference_df.set_index(id)"
   ]
  },
  {
   "cell_type": "markdown",
   "metadata": {},
   "source": [
    "### Imputación de nulos"
   ]
  },
  {
   "cell_type": "code",
   "execution_count": null,
   "metadata": {},
   "outputs": [],
   "source": [
    "# Variables numéricas por la media\n",
    "inference_df[numeric_cols]=numeric_imp.transform(inference_df[numeric_cols])\n",
    "\n",
    "# Variables categóricas por el valor mas frecuente\n",
    "inference_df[category_cols]=category_imp.transform(inference_df[category_cols])"
   ]
  },
  {
   "cell_type": "markdown",
   "metadata": {},
   "source": [
    "### Category Encoders"
   ]
  },
  {
   "cell_type": "code",
   "execution_count": null,
   "metadata": {},
   "outputs": [],
   "source": [
    "# Onehot Encoder\n",
    "onehot_encoded=onehot_enc.transform(inference_df[onehot_cols])\n",
    "inference_onehot_df=pd.DataFrame(data=onehot_encoded.toarray(), columns=onehot_enc.get_feature_names_out(onehot_cols), index=inference_df.index)\n",
    "\n",
    "#Target Encoder\n",
    "inference_target_df=target_enc.transform(inference_df[target_cols].astype(\"category\"))"
   ]
  },
  {
   "cell_type": "code",
   "execution_count": null,
   "metadata": {},
   "outputs": [],
   "source": [
    "# Fusión de los DataFrames resultantes de los encoders \n",
    "final_inference_df=inference_onehot_df.join(inference_target_df)"
   ]
  },
  {
   "cell_type": "code",
   "execution_count": null,
   "metadata": {},
   "outputs": [
    {
     "name": "stdout",
     "output_type": "stream",
     "text": [
      "--Dataset--\n",
      "Rows:321173\n",
      "Columns:162\n",
      "\n",
      "Cantidad de nulos: \n",
      "Train: 0\n"
     ]
    }
   ],
   "source": [
    "# Comprobación de filas, columnas y nulos\n",
    "print(f\"--Dataset--\\nRows:{final_inference_df.shape[0]}\\nColumns:{final_inference_df.shape[1]}\\n\")\n",
    "print(f\"Cantidad de nulos: \\nTrain: {final_inference_df.isna().sum().sum()}\")"
   ]
  },
  {
   "cell_type": "code",
   "execution_count": null,
   "metadata": {},
   "outputs": [],
   "source": [
    "# Se queda solo con las columnas resultantes del RFECV de la puuesta en producción\n",
    "final_inference_df=final_inference_df[[col for col in final_inference_df.columns if col in columns]]"
   ]
  },
  {
   "cell_type": "markdown",
   "metadata": {},
   "source": [
    "# 4. Predicción de resultados"
   ]
  },
  {
   "cell_type": "code",
   "execution_count": null,
   "metadata": {},
   "outputs": [
    {
     "name": "stdout",
     "output_type": "stream",
     "text": [
      "[LightGBM] [Warning] feature_fraction is set=0.1, colsample_bytree=0.8 will be ignored. Current value: feature_fraction=0.1\n",
      "[LightGBM] [Warning] bagging_fraction is set=0.8500000000000001, subsample=1.0 will be ignored. Current value: bagging_fraction=0.8500000000000001\n"
     ]
    }
   ],
   "source": [
    "# Se generan las predicciones de los datos con el modelo previamente entrenado\n",
    "predictions=model.predict(final_inference_df)"
   ]
  },
  {
   "cell_type": "code",
   "execution_count": null,
   "metadata": {},
   "outputs": [],
   "source": [
    "# Se crea un DataFrame con el identificador MachineIdentifier y su correspondiente resultado en la columna HasDetections\n",
    "results = pd.DataFrame()\n",
    "results[id] = final_inference_df.reset_index()[id]\n",
    "results[label] = predictions"
   ]
  },
  {
   "cell_type": "code",
   "execution_count": null,
   "metadata": {},
   "outputs": [
    {
     "data": {
      "text/html": [
       "<div>\n",
       "<style scoped>\n",
       "    .dataframe tbody tr th:only-of-type {\n",
       "        vertical-align: middle;\n",
       "    }\n",
       "\n",
       "    .dataframe tbody tr th {\n",
       "        vertical-align: top;\n",
       "    }\n",
       "\n",
       "    .dataframe thead th {\n",
       "        text-align: right;\n",
       "    }\n",
       "</style>\n",
       "<table border=\"1\" class=\"dataframe\">\n",
       "  <thead>\n",
       "    <tr style=\"text-align: right;\">\n",
       "      <th></th>\n",
       "      <th>MachineIdentifier</th>\n",
       "      <th>HasDetections</th>\n",
       "    </tr>\n",
       "  </thead>\n",
       "  <tbody>\n",
       "    <tr>\n",
       "      <th>0</th>\n",
       "      <td>961e21282c5c1474ce2330d8d528be6d</td>\n",
       "      <td>1</td>\n",
       "    </tr>\n",
       "    <tr>\n",
       "      <th>1</th>\n",
       "      <td>aa943fbc7cb6b6a77bdf7f61a1ba310c</td>\n",
       "      <td>0</td>\n",
       "    </tr>\n",
       "    <tr>\n",
       "      <th>2</th>\n",
       "      <td>917cad1527312b93d21d95cf35355be7</td>\n",
       "      <td>1</td>\n",
       "    </tr>\n",
       "    <tr>\n",
       "      <th>3</th>\n",
       "      <td>394f0ad0dbbc63d71940f11086388619</td>\n",
       "      <td>0</td>\n",
       "    </tr>\n",
       "    <tr>\n",
       "      <th>4</th>\n",
       "      <td>6e31f1fc89ac8cf6a2f59dad1fc5f643</td>\n",
       "      <td>1</td>\n",
       "    </tr>\n",
       "  </tbody>\n",
       "</table>\n",
       "</div>"
      ],
      "text/plain": [
       "                  MachineIdentifier  HasDetections\n",
       "0  961e21282c5c1474ce2330d8d528be6d              1\n",
       "1  aa943fbc7cb6b6a77bdf7f61a1ba310c              0\n",
       "2  917cad1527312b93d21d95cf35355be7              1\n",
       "3  394f0ad0dbbc63d71940f11086388619              0\n",
       "4  6e31f1fc89ac8cf6a2f59dad1fc5f643              1"
      ]
     },
     "execution_count": 17,
     "metadata": {},
     "output_type": "execute_result"
    }
   ],
   "source": [
    "# Visualización del resultado\n",
    "results.head()"
   ]
  },
  {
   "cell_type": "code",
   "execution_count": null,
   "metadata": {},
   "outputs": [
    {
     "name": "stdout",
     "output_type": "stream",
     "text": [
      "<class 'pandas.core.frame.DataFrame'>\n",
      "RangeIndex: 321173 entries, 0 to 321172\n",
      "Data columns (total 2 columns):\n",
      " #   Column             Non-Null Count   Dtype \n",
      "---  ------             --------------   ----- \n",
      " 0   MachineIdentifier  321173 non-null  object\n",
      " 1   HasDetections      321173 non-null  int64 \n",
      "dtypes: int64(1), object(1)\n",
      "memory usage: 4.9+ MB\n"
     ]
    }
   ],
   "source": [
    "# Comprobar que no tiene nulos\n",
    "results.info()"
   ]
  },
  {
   "cell_type": "code",
   "execution_count": null,
   "metadata": {},
   "outputs": [
    {
     "data": {
      "text/plain": [
       "HasDetections\n",
       "1    162995\n",
       "0    158178\n",
       "Name: count, dtype: int64"
      ]
     },
     "execution_count": 19,
     "metadata": {},
     "output_type": "execute_result"
    }
   ],
   "source": [
    "# Comprobar distribución de los resultados\n",
    "results[label].value_counts()"
   ]
  },
  {
   "cell_type": "markdown",
   "metadata": {},
   "source": [
    "# 5. Escritura en CSV"
   ]
  },
  {
   "cell_type": "code",
   "execution_count": null,
   "metadata": {},
   "outputs": [],
   "source": [
    "# Guardar los resultados como CSV para entregar en la competición de Kaggle\n",
    "results.to_csv(\"Kaggle_Results_2_Fase2_Mario_Jurado.csv\", index=False)"
   ]
  }
 ],
 "metadata": {
  "kernelspec": {
   "display_name": "Python 3",
   "language": "python",
   "name": "python3"
  },
  "language_info": {
   "codemirror_mode": {
    "name": "ipython",
    "version": 3
   },
   "file_extension": ".py",
   "mimetype": "text/x-python",
   "name": "python",
   "nbconvert_exporter": "python",
   "pygments_lexer": "ipython3",
   "version": "3.12.8"
  }
 },
 "nbformat": 4,
 "nbformat_minor": 2
}
